{
 "cells": [
  {
   "cell_type": "code",
   "execution_count": 1,
   "metadata": {
    "collapsed": true
   },
   "outputs": [],
   "source": [
    "# Used for the rendering\n",
    "BLOCK_ID = 364618 #Parasitic Attack\n",
    "BLOCK_HASH = '00000000000000000a529be68d2cfb3eb80cfd91ce75c4e0aacd388fbe2aa883'"
   ]
  },
  {
   "cell_type": "code",
   "execution_count": 2,
   "metadata": {
    "collapsed": true
   },
   "outputs": [],
   "source": [
    "BLOCK_ID = 364281\n",
    "BLOC = '000000000000000011eb9f6d476f5a4fde5aea89d78898c8d5078733ff1cf098'"
   ]
  },
  {
   "cell_type": "markdown",
   "metadata": {},
   "source": [
    "API:\n",
    "https://blockchain.info/rawblock/$block_hash"
   ]
  },
  {
   "cell_type": "code",
   "execution_count": 3,
   "metadata": {
    "collapsed": true
   },
   "outputs": [],
   "source": [
    "import urllib.request\n",
    "block_info = urllib.request.urlopen(\"https://blockchain.info/rawblock/\" + BLOCK_HASH)"
   ]
  },
  {
   "cell_type": "code",
   "execution_count": 4,
   "metadata": {
    "collapsed": false,
    "scrolled": true
   },
   "outputs": [],
   "source": [
    "import json\n",
    "block_info_json = json.load(block_info)\n",
    "#block_info_json"
   ]
  },
  {
   "cell_type": "code",
   "execution_count": 5,
   "metadata": {
    "collapsed": false
   },
   "outputs": [
    {
     "data": {
      "text/plain": [
       "['hash',\n",
       " 'ver',\n",
       " 'prev_block',\n",
       " 'mrkl_root',\n",
       " 'time',\n",
       " 'bits',\n",
       " 'fee',\n",
       " 'nonce',\n",
       " 'n_tx',\n",
       " 'size',\n",
       " 'block_index',\n",
       " 'main_chain',\n",
       " 'height',\n",
       " 'received_time',\n",
       " 'relayed_by',\n",
       " 'tx']"
      ]
     },
     "execution_count": 5,
     "metadata": {},
     "output_type": "execute_result"
    }
   ],
   "source": [
    "[a for a in block_info_json]"
   ]
  },
  {
   "cell_type": "code",
   "execution_count": 6,
   "metadata": {
    "collapsed": false
   },
   "outputs": [
    {
     "data": {
      "text/plain": [
       "{'hash': 'bd8cd038a89f498fb0b9a3497a28e0b2987917043796a91ae1350c467a86ba96',\n",
       " 'inputs': [{'script': '034a900504559f190e6335b54c00000d30',\n",
       "   'sequence': 4294967295,\n",
       "   'witness': ''}],\n",
       " 'lock_time': 0,\n",
       " 'out': [{'addr': '17JJ3oZyF4ShQMGukDjpMWhmooCjEvoVVB',\n",
       "   'n': 0,\n",
       "   'script': '76a91445160ea9d45f6edefef3977ac0b2cdcc29aa594a88ac',\n",
       "   'spent': True,\n",
       "   'tx_index': 93703223,\n",
       "   'type': 0,\n",
       "   'value': 2520394261}],\n",
       " 'relayed_by': '213.136.75.175',\n",
       " 'size': 102,\n",
       " 'time': 1436490711,\n",
       " 'tx_index': 93703223,\n",
       " 'ver': 1,\n",
       " 'vin_sz': 1,\n",
       " 'vout_sz': 1,\n",
       " 'weight': 408}"
      ]
     },
     "execution_count": 6,
     "metadata": {},
     "output_type": "execute_result"
    }
   ],
   "source": [
    "block_info_json['tx'][0]"
   ]
  },
  {
   "cell_type": "code",
   "execution_count": 7,
   "metadata": {
    "collapsed": false
   },
   "outputs": [],
   "source": [
    "#block_info_json['tx'][4]"
   ]
  },
  {
   "cell_type": "code",
   "execution_count": 8,
   "metadata": {
    "collapsed": false,
    "scrolled": false
   },
   "outputs": [
    {
     "name": "stdout",
     "output_type": "stream",
     "text": [
      "NO PREV_OUT\n",
      "NO ADDRESS IN ADRESS OUT\n",
      "{'spent': False, 'tx_index': 93706557, 'type': 0, 'value': 0, 'n': 1, 'script': '6a224f41010001191b753d68747470733a2f2f6370722e736d2f5a654b524c4237543175'}\n",
      "NO ADDRESS IN ADRESS OUT\n",
      "{'spent': False, 'tx_index': 93702268, 'type': 0, 'value': 684, 'n': 1, 'script': '5121030a51f66659f279973f9e338747ee00ce7b45587d1bfaa71720bd3b180a14859f210229cb4d524e1bd88e8b3ff5feb49006162faad752830a7844e0d3ef48d0b42f3b52ae'}\n",
      "NO ADDRESS IN ADRESS OUT\n",
      "{'spent': False, 'tx_index': 93704778, 'type': 0, 'value': 0, 'n': 1, 'script': '6a204f41010001f40318753d68747470253341253246253246626f6f702e626f6f70'}\n",
      "NO ADDRESS IN ADRESS OUT\n",
      "{'spent': False, 'tx_index': 93706558, 'type': 0, 'value': 0, 'n': 1, 'script': '6a204f41010001f40318753d68747470253341253246253246626f6f702e626f6f70'}\n"
     ]
    }
   ],
   "source": [
    "nodes = []\n",
    "links = []\n",
    "for transaction in block_info_json['tx']:\n",
    "    for input in transaction['inputs']:\n",
    "        if 'prev_out' in input:\n",
    "            prev_out = input['prev_out']\n",
    "            if 'addr' in prev_out:\n",
    "                address = prev_out['addr']\n",
    "                if address not in nodes:\n",
    "                    nodes.append(address)\n",
    "                for output in transaction['out']:\n",
    "                    if 'addr' in output:\n",
    "                        address_out = output['addr']\n",
    "                        if address_out not in nodes:\n",
    "                            nodes.append(address_out)  \n",
    "                        links.append({\n",
    "                            'source':address,\n",
    "                            'target':address_out,\n",
    "                            'value':1\n",
    "                        })\n",
    "                    else:\n",
    "                        print('NO ADDRESS IN ADRESS OUT')\n",
    "                        print(output)\n",
    "            else:\n",
    "                print('ERROR, NO ADDRESS IN PREV OUT')\n",
    "        else:\n",
    "            print('NO PREV_OUT')"
   ]
  },
  {
   "cell_type": "code",
   "execution_count": 9,
   "metadata": {
    "collapsed": false
   },
   "outputs": [
    {
     "data": {
      "text/plain": [
       "2222"
      ]
     },
     "execution_count": 9,
     "metadata": {},
     "output_type": "execute_result"
    }
   ],
   "source": [
    "len(nodes)"
   ]
  },
  {
   "cell_type": "code",
   "execution_count": null,
   "metadata": {
    "collapsed": true
   },
   "outputs": [],
   "source": []
  },
  {
   "cell_type": "code",
   "execution_count": null,
   "metadata": {
    "collapsed": true
   },
   "outputs": [],
   "source": []
  },
  {
   "cell_type": "code",
   "execution_count": 10,
   "metadata": {
    "collapsed": true
   },
   "outputs": [],
   "source": [
    "nodes_json = [{'id':a,'group':1} for a in nodes]\n",
    "links_json = links\n",
    "output = {\n",
    "    'nodes':nodes_json,\n",
    "    'links':links\n",
    "}\n",
    "\n",
    "import json\n",
    "with open('data_block.json', 'w') as outfile:\n",
    "    json.dump(output, outfile)"
   ]
  },
  {
   "cell_type": "code",
   "execution_count": null,
   "metadata": {
    "collapsed": true
   },
   "outputs": [],
   "source": []
  },
  {
   "cell_type": "markdown",
   "metadata": {},
   "source": [
    "### Produce the following:\n",
    "\n",
    "![alt src](input-output.png)"
   ]
  },
  {
   "cell_type": "code",
   "execution_count": 11,
   "metadata": {
    "collapsed": false
   },
   "outputs": [
    {
     "data": {
      "text/plain": [
       "{'hash': 'ef48c16de1bd06017e01169a18f666f234eb041255c03ba7db8d92865cdbfc72',\n",
       " 'inputs': [{'prev_out': {'addr': '1JwjyWUBEAWj2jPABTYQrNQ3mbQoxKidxz',\n",
       "    'n': 0,\n",
       "    'script': '76a914c4d4792f7da8f7a1b5fbefa1d1dcd889977bf29188ac',\n",
       "    'spent': True,\n",
       "    'tx_index': 93141260,\n",
       "    'type': 0,\n",
       "    'value': 2943750000},\n",
       "   'script': '4830450220741da3b90efffaa6bc7c4861df773cb3cd1e6f80d3af9ed456238867cf164166022100e6e50a9541c171531bf9881387cad6ba31fb716714f551585a5a56b210dc67630121025533398fe739abcb1955362d434d8cd3e66373f5b8a71648f36193a93e5e83ba',\n",
       "   'sequence': 4294967295,\n",
       "   'witness': ''}],\n",
       " 'lock_time': 0,\n",
       " 'out': [{'addr': '143mLUvw6Jw3jZJZ2wyri5TPuHSf7qWvcM',\n",
       "   'n': 0,\n",
       "   'script': '76a914216e38111c0f0dbcd03d1665628b8a69002dcac988ac',\n",
       "   'spent': True,\n",
       "   'tx_index': 93702328,\n",
       "   'type': 0,\n",
       "   'value': 2843750000},\n",
       "  {'addr': '1EWKQ1B65DBQdJSfRedArSijQd4Mu7BLbj',\n",
       "   'n': 1,\n",
       "   'script': '76a91494250e06dc36b68483a301d43c1e15b919ce159288ac',\n",
       "   'spent': True,\n",
       "   'tx_index': 93702328,\n",
       "   'type': 0,\n",
       "   'value': 100000000}],\n",
       " 'relayed_by': '75.145.149.169',\n",
       " 'size': 226,\n",
       " 'time': 1436488356,\n",
       " 'tx_index': 93702328,\n",
       " 'ver': 1,\n",
       " 'vin_sz': 1,\n",
       " 'vout_sz': 2,\n",
       " 'weight': 904}"
      ]
     },
     "execution_count": 11,
     "metadata": {},
     "output_type": "execute_result"
    }
   ],
   "source": [
    "block_info_json['tx'][1]"
   ]
  },
  {
   "cell_type": "code",
   "execution_count": 12,
   "metadata": {
    "collapsed": false
   },
   "outputs": [],
   "source": [
    "nodes = []\n",
    "nodes_block = []\n",
    "links = []\n",
    "for transaction in block_info_json['tx']:\n",
    "    hash_ = transaction['hash']\n",
    "    if transaction['hash'] not in nodes_block:\n",
    "        nodes_block.append(transaction['hash'])\n",
    "        \n",
    "    for input in transaction['inputs']:\n",
    "        if 'prev_out' in input:\n",
    "            prev_out = input['prev_out']\n",
    "            if 'addr' in prev_out:\n",
    "                address = prev_out['addr']\n",
    "                if address not in nodes:\n",
    "                    nodes.append(address)\n",
    "                links.append({\n",
    "                    'source':address,\n",
    "                    'target':hash_,\n",
    "                    'value':1\n",
    "                })\n",
    "                    \n",
    "    for output in transaction['out']:\n",
    "        if 'addr' in output:\n",
    "            address_out = output['addr']\n",
    "            if address_out not in nodes:\n",
    "                nodes.append(address_out)  \n",
    "            links.append({\n",
    "                'source':hash_,\n",
    "                'target':address_out,\n",
    "                'value':1\n",
    "            })"
   ]
  },
  {
   "cell_type": "code",
   "execution_count": 13,
   "metadata": {
    "collapsed": false
   },
   "outputs": [],
   "source": [
    "nodes_json = [{'id':a,'group':1} for a in nodes] + [{'id':a,'group':2} for a in nodes_block]\n",
    "links_json = links\n",
    "output = {\n",
    "    'nodes':nodes_json,\n",
    "    'links':links_json\n",
    "}\n",
    "\n",
    "import json\n",
    "with open('data_block_but_links_are_between_tx_id.json', 'w') as outfile:\n",
    "    json.dump(output, outfile)"
   ]
  },
  {
   "cell_type": "markdown",
   "metadata": {},
   "source": [
    "## Generate this one:\n",
    "\n",
    "![alt src](block-centric.png)"
   ]
  },
  {
   "cell_type": "code",
   "execution_count": null,
   "metadata": {
    "collapsed": true
   },
   "outputs": [],
   "source": []
  },
  {
   "cell_type": "markdown",
   "metadata": {},
   "source": [
    "# And now... another bloc..."
   ]
  },
  {
   "cell_type": "code",
   "execution_count": 36,
   "metadata": {
    "collapsed": false
   },
   "outputs": [],
   "source": [
    "# BLOCK_ID = \n",
    "BLOC = '000000000000000012539f9cc04158fd7b52545640c4f74534223ec3812afb0e'"
   ]
  },
  {
   "cell_type": "code",
   "execution_count": 37,
   "metadata": {
    "collapsed": true
   },
   "outputs": [],
   "source": [
    "import urllib.request\n",
    "block_info = urllib.request.urlopen(\"https://blockchain.info/rawblock/\" + BLOCK_HASH)"
   ]
  },
  {
   "cell_type": "code",
   "execution_count": 38,
   "metadata": {
    "collapsed": true
   },
   "outputs": [],
   "source": [
    "import json\n",
    "block_info_json = json.load(block_info)\n",
    "#block_info_json"
   ]
  },
  {
   "cell_type": "code",
   "execution_count": 39,
   "metadata": {
    "collapsed": true
   },
   "outputs": [],
   "source": [
    "nodes = []\n",
    "nodes_block = []\n",
    "links = []\n",
    "for transaction in block_info_json['tx']:\n",
    "    hash_ = transaction['hash']\n",
    "    if transaction['hash'] not in nodes_block:\n",
    "        nodes_block.append(transaction['hash'])\n",
    "        \n",
    "    for input in transaction['inputs']:\n",
    "        if 'prev_out' in input:\n",
    "            prev_out = input['prev_out']\n",
    "            if 'addr' in prev_out:\n",
    "                address = prev_out['addr']\n",
    "                if address not in nodes:\n",
    "                    nodes.append(address)\n",
    "                links.append({\n",
    "                    'source':address,\n",
    "                    'target':hash_,\n",
    "                    'value':1\n",
    "                })\n",
    "                    \n",
    "    for output in transaction['out']:\n",
    "        if 'addr' in output:\n",
    "            address_out = output['addr']\n",
    "            if address_out not in nodes:\n",
    "                nodes.append(address_out)  \n",
    "            links.append({\n",
    "                'source':hash_,\n",
    "                'target':address_out,\n",
    "                'value':1\n",
    "            })"
   ]
  },
  {
   "cell_type": "code",
   "execution_count": 40,
   "metadata": {
    "collapsed": true
   },
   "outputs": [],
   "source": [
    "nodes_json = [{'id':a,'group':1} for a in nodes] + [{'id':a,'group':2} for a in nodes_block]\n",
    "links_json = links\n",
    "output = {\n",
    "    'nodes':nodes_json,\n",
    "    'links':links_json\n",
    "}\n",
    "\n",
    "import json\n",
    "with open('18nov.json', 'w') as outfile:\n",
    "    json.dump(output, outfile)"
   ]
  },
  {
   "cell_type": "code",
   "execution_count": null,
   "metadata": {
    "collapsed": true
   },
   "outputs": [],
   "source": []
  },
  {
   "cell_type": "code",
   "execution_count": null,
   "metadata": {
    "collapsed": true
   },
   "outputs": [],
   "source": []
  }
 ],
 "metadata": {
  "kernelspec": {
   "display_name": "Python [py35]",
   "language": "python",
   "name": "Python [py35]"
  },
  "language_info": {
   "codemirror_mode": {
    "name": "ipython",
    "version": 3
   },
   "file_extension": ".py",
   "mimetype": "text/x-python",
   "name": "python",
   "nbconvert_exporter": "python",
   "pygments_lexer": "ipython3",
   "version": "3.6.0"
  }
 },
 "nbformat": 4,
 "nbformat_minor": 2
}
