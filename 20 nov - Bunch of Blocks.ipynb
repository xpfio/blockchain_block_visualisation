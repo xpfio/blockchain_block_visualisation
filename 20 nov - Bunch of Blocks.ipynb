{
 "cells": [
  {
   "cell_type": "code",
   "execution_count": 4,
   "metadata": {
    "collapsed": true
   },
   "outputs": [],
   "source": [
    "#364130 to ...\n",
    "BLOCKS = [\n",
    "    '000000000000000004e0bb88c983f2c0e812ef2e637bd3ddd48691fb79aad84d',\n",
    "    '000000000000000002a54709faeda19a20bbcfc4471647238ca98e1d5ef8c66f',\n",
    "    '0000000000000000092b566770549866470676df750e6a10340ceebe5667d9d8',\n",
    "    '0000000000000000053197f9e8e5b0601071be99ca2a5c6ba18252a1aa895b04',\n",
    "    '000000000000000000d54dfc07949110678c611c0c566159d63b70e2496ba93b',\n",
    "    '00000000000000000d18ced8f58c2d032a6f46bc5c37ebaf80b3ee9fe0776050',\n",
    "    '00000000000000000e8b99c2bf187fa552c8bdf996c2f5bf1a05f5c6402c742c',\n",
    "    '0000000000000000020f655cb7c0792906e4cebb54ea834cc6062af12f0563ab'\n",
    "]\n",
    "\n",
    "data = []"
   ]
  },
  {
   "cell_type": "code",
   "execution_count": 5,
   "metadata": {
    "collapsed": false
   },
   "outputs": [],
   "source": [
    "for BLOCK_HASH in BLOCKS:\n",
    "    import urllib.request\n",
    "    block_info = urllib.request.urlopen(\"https://blockchain.info/rawblock/\" + BLOCK_HASH)\n",
    "    data.append(block_info)"
   ]
  },
  {
   "cell_type": "code",
   "execution_count": 6,
   "metadata": {
    "collapsed": true
   },
   "outputs": [],
   "source": [
    "import pickle\n",
    "pickle.dump( data, open( \"bunch_blocks.p\", \"wb\" ) )"
   ]
  },
  {
   "cell_type": "code",
   "execution_count": 7,
   "metadata": {
    "collapsed": true
   },
   "outputs": [],
   "source": [
    "import json"
   ]
  },
  {
   "cell_type": "code",
   "execution_count": 8,
   "metadata": {
    "collapsed": true
   },
   "outputs": [],
   "source": [
    "data_to_plot = []\n",
    "for block_info in data:\n",
    "    block_info_json = json.load(block_info)\n",
    "    \n",
    "    nodes_input = []\n",
    "    nodes_transaction = []\n",
    "    nodes_output = []\n",
    "    links = []\n",
    "    for transaction in block_info_json['tx']:\n",
    "        nodes_transaction.append(transaction['hash'])\n",
    "        for input in transaction['inputs']:\n",
    "            if 'prev_out' in input:\n",
    "                prev_out = input['prev_out']\n",
    "                if 'addr' in prev_out:\n",
    "                    address = prev_out['addr']\n",
    "                    if address not in nodes_input:\n",
    "                        nodes_input.append(address)\n",
    "                    links.append({\n",
    "                        'source':address,\n",
    "                        'target':transaction['hash'],\n",
    "                        'value':1\n",
    "                    })\n",
    "\n",
    "        for output in transaction['out']:\n",
    "            if 'addr' in output:\n",
    "                address_out = output['addr']\n",
    "                if address_out not in nodes_output and address_out not in nodes_input:\n",
    "                    nodes_output.append(address_out)  \n",
    "                links.append({\n",
    "                    'source':transaction['hash'],\n",
    "                    'target':address_out,\n",
    "                    'value':1\n",
    "                })\n",
    "                \n",
    "    nodes_json = [{'id':a,'group':1} for a in nodes_input] + \\\n",
    "        [{'id':a,'group':2} for a in nodes_transaction] + \\\n",
    "        [{'id':a,'group':3} for a in nodes_output]\n",
    "    links_json = links\n",
    "    output = {\n",
    "        'nodes':nodes_json,\n",
    "        'links':links\n",
    "    }\n",
    "    data_to_plot.append(output)"
   ]
  },
  {
   "cell_type": "code",
   "execution_count": 9,
   "metadata": {
    "collapsed": true
   },
   "outputs": [],
   "source": [
    "from selenium import webdriver\n",
    "from time import sleep\n",
    "\n",
    "for index,graph in enumerate(data_to_plot):\n",
    "    with open('20nov.json', 'w') as outfile:\n",
    "        json.dump(graph, outfile)\n",
    "    browser = webdriver.Chrome()\n",
    "    browser.implicitly_wait(1)\n",
    "    browser.get('about:blank')\n",
    "    browser.maximize_window()\n",
    "    sleep(1)\n",
    "    browser.save_screenshot('blank.png')\n",
    "    browser.set_window_position(0, 0)\n",
    "    browser.set_window_size(1000, 1000)\n",
    "    browser.get('http://localhost:8002/code/20nov.html')\n",
    "    sleep(80)\n",
    "    browser.save_screenshot(str(index)+'.png')\n",
    "    browser.quit()"
   ]
  },
  {
   "cell_type": "code",
   "execution_count": null,
   "metadata": {
    "collapsed": true
   },
   "outputs": [],
   "source": []
  }
 ],
 "metadata": {
  "kernelspec": {
   "display_name": "Python [py35]",
   "language": "python",
   "name": "Python [py35]"
  },
  "language_info": {
   "codemirror_mode": {
    "name": "ipython",
    "version": 3
   },
   "file_extension": ".py",
   "mimetype": "text/x-python",
   "name": "python",
   "nbconvert_exporter": "python",
   "pygments_lexer": "ipython3",
   "version": "3.6.0"
  }
 },
 "nbformat": 4,
 "nbformat_minor": 2
}
