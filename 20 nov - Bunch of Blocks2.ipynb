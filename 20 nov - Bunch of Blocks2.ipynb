{
 "cells": [
  {
   "cell_type": "code",
   "execution_count": 1,
   "metadata": {
    "collapsed": true
   },
   "outputs": [],
   "source": [
    "#364130 to ...\n",
    "BLOCKS_INIT = '0000000013ab9f8ed78b254a429d3d5ad52905362e01bf6c682940337721eb51' #pizza\n",
    "# BLOCKS_INIT = '0000000000000000020f655cb7c0792906e4cebb54ea834cc6062af12f0563ab'\n",
    "# BLOCKS_INIT = '000000000000000000345e1eace92469a7de99658ffc1433e7022766e5abf8bf'\n",
    "BLOCKS_INIT = '0000000000000000053197f9e8e5b0601071be99ca2a5c6ba18252a1aa895b04'\n",
    "BLOCKS_INIT = '00000000000000000a529be68d2cfb3eb80cfd91ce75c4e0aacd388fbe2aa883'\n",
    "BLOCKS_INIT = '00000000000000000073369b9924c9afe83a4c8e7da0ca64153bfcf6a3e6f664'\n",
    "BLOCKS_INIT = '000000000000000011eb9f6d476f5a4fde5aea89d78898c8d5078733ff1cf098'\n",
    "BLOCKS_INIT = '000000000000000013ba348d19e2418fb49f79ea3fa7026c8c92483b4c61ba36' #previous one interesting\n",
    "BLOCKS_INIT = '0000000000000000005d1bafc5ce58c1dff2a58bfed50896e880c6e70697d36e'\n"
   ]
  },
  {
   "cell_type": "code",
   "execution_count": 2,
   "metadata": {
    "collapsed": true
   },
   "outputs": [],
   "source": [
    "import os.path\n",
    "import urllib.request\n",
    "import json\n",
    "import pickle\n",
    "from selenium import webdriver\n",
    "from time import sleep"
   ]
  },
  {
   "cell_type": "code",
   "execution_count": 3,
   "metadata": {
    "collapsed": false
   },
   "outputs": [
    {
     "name": "stdout",
     "output_type": "stream",
     "text": [
      "mkdir: data: File exists\r\n"
     ]
    }
   ],
   "source": [
    "!mkdir data"
   ]
  },
  {
   "cell_type": "code",
   "execution_count": 4,
   "metadata": {
    "collapsed": false
   },
   "outputs": [],
   "source": [
    "def find_block_info(HASH):\n",
    "    if not os.path.isfile('data/'+BLOCK_HASH+'.json'):\n",
    "        block_info = urllib.request.urlopen(\"https://blockchain.info/rawblock/\" + BLOCK_HASH)\n",
    "        block_info_json = json.load(block_info)\n",
    "        with open('data/'+BLOCK_HASH+'.json', 'w') as outfile:\n",
    "            json.dump(block_info_json, outfile)\n",
    "        return block_info_json\n",
    "    else:\n",
    "        return json.load(open('data/'+BLOCK_HASH+'.json','r'))"
   ]
  },
  {
   "cell_type": "code",
   "execution_count": 5,
   "metadata": {
    "collapsed": false
   },
   "outputs": [
    {
     "name": "stdout",
     "output_type": "stream",
     "text": [
      "0000000000000000005d1bafc5ce58c1dff2a58bfed50896e880c6e70697d36e\n",
      "00000000000000000090b967547deb9de3dbae15ee6f3fa7593d6c4afeb5f49b\n"
     ]
    }
   ],
   "source": [
    "BLOCK_HASH = BLOCKS_INIT\n",
    "for a in range(2):\n",
    "    print(BLOCK_HASH)\n",
    "    block_info_json = find_block_info(BLOCK_HASH)\n",
    "    BLOCK_HASH = block_info_json['prev_block']"
   ]
  },
  {
   "cell_type": "code",
   "execution_count": 6,
   "metadata": {
    "collapsed": true
   },
   "outputs": [],
   "source": [
    "import random"
   ]
  },
  {
   "cell_type": "code",
   "execution_count": 7,
   "metadata": {
    "collapsed": false
   },
   "outputs": [],
   "source": [
    "def render_graph_and_save_screenshot(graph,BLOCK_HASH):\n",
    "    with open('20nov.json', 'w') as outfile:\n",
    "        json.dump(graph, outfile)\n",
    "    browser = webdriver.Chrome()\n",
    "    browser.implicitly_wait(1)\n",
    "    browser.get('about:blank')\n",
    "    browser.maximize_window()\n",
    "    sleep(1)\n",
    "    browser.save_screenshot('blank.png')\n",
    "    browser.set_window_position(0, 0)\n",
    "    browser.set_window_size(1000, 1000)\n",
    "    browser.get('http://localhost:8002/code/20nov.html')\n",
    "    sleep(80)\n",
    "    browser.save_screenshot(BLOCK_HASH+'-'+str(random.random())+'.png')\n",
    "    browser.quit()"
   ]
  },
  {
   "cell_type": "code",
   "execution_count": 8,
   "metadata": {
    "collapsed": true
   },
   "outputs": [],
   "source": [
    "def create_graph(block_info_json):\n",
    "    nodes_input = []\n",
    "    nodes_transaction = []\n",
    "    nodes_output = []\n",
    "    links = []\n",
    "    for transaction in block_info_json['tx']:\n",
    "        nodes_transaction.append(transaction['hash'])\n",
    "        for input in transaction['inputs']:\n",
    "            if 'prev_out' in input:\n",
    "                prev_out = input['prev_out']\n",
    "                if 'addr' in prev_out:\n",
    "                    address = prev_out['addr']\n",
    "                    \n",
    "                    if address not in remap_outputs_dict:#totally new input\n",
    "                        address += '-' + str(random.random())\n",
    "                        nodes_input.append(address)  \n",
    "                        links.append({\n",
    "                            'source':address,\n",
    "                            'target':transaction['hash'],\n",
    "                            'value':1\n",
    "                        })\n",
    "                    elif address in remap_outputs_dict:\n",
    "                        new_address = remap_outputs_dict[address]\n",
    "                        del remap_outputs_dict[address]\n",
    "#                         nodes_input.append(new_address)  \n",
    "                        links.append({\n",
    "                            'source':new_address,\n",
    "                            'target':transaction['hash'],\n",
    "                            'value':1\n",
    "                        })\n",
    "                    \n",
    "        for output in transaction['out']:\n",
    "            if 'addr' in output:\n",
    "                address_out = output['addr']\n",
    "                address_out_unique = address_out + '-' + str(random.random())\n",
    "                remap_outputs_dict[address_out] = address_out_unique\n",
    "                nodes_output.append(address_out_unique)  \n",
    "                links.append({\n",
    "                    'source':transaction['hash'],\n",
    "                    'target':address_out_unique,\n",
    "                    'value':1\n",
    "                })\n",
    "\n",
    "                    \n",
    "                    \n",
    "                \n",
    "    nodes_json = [{'id':a,'group':1} for a in nodes_input] + \\\n",
    "        [{'id':a,'group':2} for a in nodes_transaction] + \\\n",
    "        [{'id':a,'group':3} for a in nodes_output]\n",
    "    links_json = links\n",
    "    output = {\n",
    "        'nodes':nodes_json,\n",
    "        'links':links\n",
    "    }\n",
    "    \n",
    "    return output"
   ]
  },
  {
   "cell_type": "code",
   "execution_count": 11,
   "metadata": {
    "collapsed": false
   },
   "outputs": [
    {
     "ename": "NoSuchWindowException",
     "evalue": "Message: no such window: target window already closed\nfrom unknown error: web view not found\n  (Session info: chrome=62.0.3202.94)\n  (Driver info: chromedriver=2.24.417412 (ac882d3ce7c0d99292439bf3405780058fcca0a6),platform=Mac OS X 10.12.6 x86_64)\n",
     "output_type": "error",
     "traceback": [
      "\u001b[0;31m---------------------------------------------------------------------------\u001b[0m",
      "\u001b[0;31mNoSuchWindowException\u001b[0m                     Traceback (most recent call last)",
      "\u001b[0;32m<ipython-input-11-91a22bf728df>\u001b[0m in \u001b[0;36m<module>\u001b[0;34m()\u001b[0m\n\u001b[1;32m      5\u001b[0m     \u001b[0moutput\u001b[0m \u001b[0;34m=\u001b[0m \u001b[0mcreate_graph\u001b[0m\u001b[0;34m(\u001b[0m\u001b[0mblock_info_json\u001b[0m\u001b[0;34m)\u001b[0m\u001b[0;34m\u001b[0m\u001b[0m\n\u001b[1;32m      6\u001b[0m     \u001b[0;32mif\u001b[0m\u001b[0;34m(\u001b[0m\u001b[0ma\u001b[0m\u001b[0;34m>=\u001b[0m\u001b[0;36m100\u001b[0m\u001b[0;34m)\u001b[0m\u001b[0;34m:\u001b[0m\u001b[0;34m\u001b[0m\u001b[0m\n\u001b[0;32m----> 7\u001b[0;31m         \u001b[0mrender_graph_and_save_screenshot\u001b[0m\u001b[0;34m(\u001b[0m\u001b[0moutput\u001b[0m\u001b[0;34m,\u001b[0m\u001b[0mBLOCK_HASH\u001b[0m\u001b[0;34m)\u001b[0m\u001b[0;34m\u001b[0m\u001b[0m\n\u001b[0m\u001b[1;32m      8\u001b[0m     \u001b[0mBLOCK_HASH\u001b[0m \u001b[0;34m=\u001b[0m \u001b[0mblock_info_json\u001b[0m\u001b[0;34m[\u001b[0m\u001b[0;34m'prev_block'\u001b[0m\u001b[0;34m]\u001b[0m\u001b[0;34m\u001b[0m\u001b[0m\n",
      "\u001b[0;32m<ipython-input-7-c61d4f6f5bb6>\u001b[0m in \u001b[0;36mrender_graph_and_save_screenshot\u001b[0;34m(graph, BLOCK_HASH)\u001b[0m\n\u001b[1;32m     10\u001b[0m     \u001b[0mbrowser\u001b[0m\u001b[0;34m.\u001b[0m\u001b[0mset_window_position\u001b[0m\u001b[0;34m(\u001b[0m\u001b[0;36m0\u001b[0m\u001b[0;34m,\u001b[0m \u001b[0;36m0\u001b[0m\u001b[0;34m)\u001b[0m\u001b[0;34m\u001b[0m\u001b[0m\n\u001b[1;32m     11\u001b[0m     \u001b[0mbrowser\u001b[0m\u001b[0;34m.\u001b[0m\u001b[0mset_window_size\u001b[0m\u001b[0;34m(\u001b[0m\u001b[0;36m1000\u001b[0m\u001b[0;34m,\u001b[0m \u001b[0;36m1000\u001b[0m\u001b[0;34m)\u001b[0m\u001b[0;34m\u001b[0m\u001b[0m\n\u001b[0;32m---> 12\u001b[0;31m     \u001b[0mbrowser\u001b[0m\u001b[0;34m.\u001b[0m\u001b[0mget\u001b[0m\u001b[0;34m(\u001b[0m\u001b[0;34m'http://localhost:8002/code/20nov.html'\u001b[0m\u001b[0;34m)\u001b[0m\u001b[0;34m\u001b[0m\u001b[0m\n\u001b[0m\u001b[1;32m     13\u001b[0m     \u001b[0msleep\u001b[0m\u001b[0;34m(\u001b[0m\u001b[0;36m80\u001b[0m\u001b[0;34m)\u001b[0m\u001b[0;34m\u001b[0m\u001b[0m\n\u001b[1;32m     14\u001b[0m     \u001b[0mbrowser\u001b[0m\u001b[0;34m.\u001b[0m\u001b[0msave_screenshot\u001b[0m\u001b[0;34m(\u001b[0m\u001b[0mBLOCK_HASH\u001b[0m\u001b[0;34m+\u001b[0m\u001b[0;34m'-'\u001b[0m\u001b[0;34m+\u001b[0m\u001b[0mstr\u001b[0m\u001b[0;34m(\u001b[0m\u001b[0mrandom\u001b[0m\u001b[0;34m.\u001b[0m\u001b[0mrandom\u001b[0m\u001b[0;34m(\u001b[0m\u001b[0;34m)\u001b[0m\u001b[0;34m)\u001b[0m\u001b[0;34m+\u001b[0m\u001b[0;34m'.png'\u001b[0m\u001b[0;34m)\u001b[0m\u001b[0;34m\u001b[0m\u001b[0m\n",
      "\u001b[0;32m/Users/xavier/anaconda/envs/py35/lib/python3.6/site-packages/selenium/webdriver/remote/webdriver.py\u001b[0m in \u001b[0;36mget\u001b[0;34m(self, url)\u001b[0m\n\u001b[1;32m    318\u001b[0m         \u001b[0mLoads\u001b[0m \u001b[0ma\u001b[0m \u001b[0mweb\u001b[0m \u001b[0mpage\u001b[0m \u001b[0;32min\u001b[0m \u001b[0mthe\u001b[0m \u001b[0mcurrent\u001b[0m \u001b[0mbrowser\u001b[0m \u001b[0msession\u001b[0m\u001b[0;34m.\u001b[0m\u001b[0;34m\u001b[0m\u001b[0m\n\u001b[1;32m    319\u001b[0m         \"\"\"\n\u001b[0;32m--> 320\u001b[0;31m         \u001b[0mself\u001b[0m\u001b[0;34m.\u001b[0m\u001b[0mexecute\u001b[0m\u001b[0;34m(\u001b[0m\u001b[0mCommand\u001b[0m\u001b[0;34m.\u001b[0m\u001b[0mGET\u001b[0m\u001b[0;34m,\u001b[0m \u001b[0;34m{\u001b[0m\u001b[0;34m'url'\u001b[0m\u001b[0;34m:\u001b[0m \u001b[0murl\u001b[0m\u001b[0;34m}\u001b[0m\u001b[0;34m)\u001b[0m\u001b[0;34m\u001b[0m\u001b[0m\n\u001b[0m\u001b[1;32m    321\u001b[0m \u001b[0;34m\u001b[0m\u001b[0m\n\u001b[1;32m    322\u001b[0m     \u001b[0;34m@\u001b[0m\u001b[0mproperty\u001b[0m\u001b[0;34m\u001b[0m\u001b[0m\n",
      "\u001b[0;32m/Users/xavier/anaconda/envs/py35/lib/python3.6/site-packages/selenium/webdriver/remote/webdriver.py\u001b[0m in \u001b[0;36mexecute\u001b[0;34m(self, driver_command, params)\u001b[0m\n\u001b[1;32m    306\u001b[0m         \u001b[0mresponse\u001b[0m \u001b[0;34m=\u001b[0m \u001b[0mself\u001b[0m\u001b[0;34m.\u001b[0m\u001b[0mcommand_executor\u001b[0m\u001b[0;34m.\u001b[0m\u001b[0mexecute\u001b[0m\u001b[0;34m(\u001b[0m\u001b[0mdriver_command\u001b[0m\u001b[0;34m,\u001b[0m \u001b[0mparams\u001b[0m\u001b[0;34m)\u001b[0m\u001b[0;34m\u001b[0m\u001b[0m\n\u001b[1;32m    307\u001b[0m         \u001b[0;32mif\u001b[0m \u001b[0mresponse\u001b[0m\u001b[0;34m:\u001b[0m\u001b[0;34m\u001b[0m\u001b[0m\n\u001b[0;32m--> 308\u001b[0;31m             \u001b[0mself\u001b[0m\u001b[0;34m.\u001b[0m\u001b[0merror_handler\u001b[0m\u001b[0;34m.\u001b[0m\u001b[0mcheck_response\u001b[0m\u001b[0;34m(\u001b[0m\u001b[0mresponse\u001b[0m\u001b[0;34m)\u001b[0m\u001b[0;34m\u001b[0m\u001b[0m\n\u001b[0m\u001b[1;32m    309\u001b[0m             response['value'] = self._unwrap_value(\n\u001b[1;32m    310\u001b[0m                 response.get('value', None))\n",
      "\u001b[0;32m/Users/xavier/anaconda/envs/py35/lib/python3.6/site-packages/selenium/webdriver/remote/errorhandler.py\u001b[0m in \u001b[0;36mcheck_response\u001b[0;34m(self, response)\u001b[0m\n\u001b[1;32m    192\u001b[0m         \u001b[0;32melif\u001b[0m \u001b[0mexception_class\u001b[0m \u001b[0;34m==\u001b[0m \u001b[0mUnexpectedAlertPresentException\u001b[0m \u001b[0;32mand\u001b[0m \u001b[0;34m'alert'\u001b[0m \u001b[0;32min\u001b[0m \u001b[0mvalue\u001b[0m\u001b[0;34m:\u001b[0m\u001b[0;34m\u001b[0m\u001b[0m\n\u001b[1;32m    193\u001b[0m             \u001b[0;32mraise\u001b[0m \u001b[0mexception_class\u001b[0m\u001b[0;34m(\u001b[0m\u001b[0mmessage\u001b[0m\u001b[0;34m,\u001b[0m \u001b[0mscreen\u001b[0m\u001b[0;34m,\u001b[0m \u001b[0mstacktrace\u001b[0m\u001b[0;34m,\u001b[0m \u001b[0mvalue\u001b[0m\u001b[0;34m[\u001b[0m\u001b[0;34m'alert'\u001b[0m\u001b[0;34m]\u001b[0m\u001b[0;34m.\u001b[0m\u001b[0mget\u001b[0m\u001b[0;34m(\u001b[0m\u001b[0;34m'text'\u001b[0m\u001b[0;34m)\u001b[0m\u001b[0;34m)\u001b[0m\u001b[0;34m\u001b[0m\u001b[0m\n\u001b[0;32m--> 194\u001b[0;31m         \u001b[0;32mraise\u001b[0m \u001b[0mexception_class\u001b[0m\u001b[0;34m(\u001b[0m\u001b[0mmessage\u001b[0m\u001b[0;34m,\u001b[0m \u001b[0mscreen\u001b[0m\u001b[0;34m,\u001b[0m \u001b[0mstacktrace\u001b[0m\u001b[0;34m)\u001b[0m\u001b[0;34m\u001b[0m\u001b[0m\n\u001b[0m\u001b[1;32m    195\u001b[0m \u001b[0;34m\u001b[0m\u001b[0m\n\u001b[1;32m    196\u001b[0m     \u001b[0;32mdef\u001b[0m \u001b[0m_value_or_default\u001b[0m\u001b[0;34m(\u001b[0m\u001b[0mself\u001b[0m\u001b[0;34m,\u001b[0m \u001b[0mobj\u001b[0m\u001b[0;34m,\u001b[0m \u001b[0mkey\u001b[0m\u001b[0;34m,\u001b[0m \u001b[0mdefault\u001b[0m\u001b[0;34m)\u001b[0m\u001b[0;34m:\u001b[0m\u001b[0;34m\u001b[0m\u001b[0m\n",
      "\u001b[0;31mNoSuchWindowException\u001b[0m: Message: no such window: target window already closed\nfrom unknown error: web view not found\n  (Session info: chrome=62.0.3202.94)\n  (Driver info: chromedriver=2.24.417412 (ac882d3ce7c0d99292439bf3405780058fcca0a6),platform=Mac OS X 10.12.6 x86_64)\n"
     ]
    }
   ],
   "source": [
    "BLOCK_HASH = BLOCKS_INIT\n",
    "for a in range(0,10000):\n",
    "    remap_outputs_dict = {}\n",
    "    block_info_json = find_block_info(BLOCK_HASH)\n",
    "    output = create_graph(block_info_json)\n",
    "#     if(a>=100):\n",
    "    render_graph_and_save_screenshot(output,BLOCK_HASH)\n",
    "    BLOCK_HASH = block_info_json['prev_block']\n"
   ]
  },
  {
   "cell_type": "code",
   "execution_count": null,
   "metadata": {
    "collapsed": true
   },
   "outputs": [],
   "source": []
  }
 ],
 "metadata": {
  "kernelspec": {
   "display_name": "Python [py35]",
   "language": "python",
   "name": "Python [py35]"
  },
  "language_info": {
   "codemirror_mode": {
    "name": "ipython",
    "version": 3
   },
   "file_extension": ".py",
   "mimetype": "text/x-python",
   "name": "python",
   "nbconvert_exporter": "python",
   "pygments_lexer": "ipython3",
   "version": "3.6.0"
  }
 },
 "nbformat": 4,
 "nbformat_minor": 2
}
