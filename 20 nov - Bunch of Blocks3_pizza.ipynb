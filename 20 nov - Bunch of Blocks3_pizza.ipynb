{
 "cells": [
  {
   "cell_type": "code",
   "execution_count": 1,
   "metadata": {
    "collapsed": true
   },
   "outputs": [],
   "source": [
    "#364130 to ...\n",
    "BLOCKS_INIT = '0000000013ab9f8ed78b254a429d3d5ad52905362e01bf6c682940337721eb51' #pizza"
   ]
  },
  {
   "cell_type": "code",
   "execution_count": 2,
   "metadata": {
    "collapsed": true
   },
   "outputs": [],
   "source": [
    "import os.path\n",
    "import urllib.request\n",
    "import json\n",
    "import pickle\n",
    "from selenium import webdriver\n",
    "from time import sleep"
   ]
  },
  {
   "cell_type": "code",
   "execution_count": 3,
   "metadata": {
    "collapsed": false
   },
   "outputs": [
    {
     "name": "stdout",
     "output_type": "stream",
     "text": [
      "mkdir: data: File exists\r\n"
     ]
    }
   ],
   "source": [
    "!mkdir data"
   ]
  },
  {
   "cell_type": "code",
   "execution_count": 4,
   "metadata": {
    "collapsed": false
   },
   "outputs": [],
   "source": [
    "def find_block_info(HASH):\n",
    "    if not os.path.isfile('data/'+BLOCK_HASH+'.json'):\n",
    "        block_info = urllib.request.urlopen(\"https://blockchain.info/rawblock/\" + BLOCK_HASH)\n",
    "        block_info_json = json.load(block_info)\n",
    "        with open('data/'+BLOCK_HASH+'.json', 'w') as outfile:\n",
    "            json.dump(block_info_json, outfile)\n",
    "        return block_info_json\n",
    "    else:\n",
    "        return json.load(open('data/'+BLOCK_HASH+'.json','r'))"
   ]
  },
  {
   "cell_type": "code",
   "execution_count": 5,
   "metadata": {
    "collapsed": false
   },
   "outputs": [
    {
     "name": "stdout",
     "output_type": "stream",
     "text": [
      "0000000013ab9f8ed78b254a429d3d5ad52905362e01bf6c682940337721eb51\n",
      "00000000152340ca42227603908689183edc47355204e7aca59383b0aaac1fd8\n"
     ]
    }
   ],
   "source": [
    "BLOCK_HASH = BLOCKS_INIT\n",
    "for a in range(2):\n",
    "    print(BLOCK_HASH)\n",
    "    block_info_json = find_block_info(BLOCK_HASH)\n",
    "    BLOCK_HASH = block_info_json['prev_block']"
   ]
  },
  {
   "cell_type": "code",
   "execution_count": 6,
   "metadata": {
    "collapsed": true
   },
   "outputs": [],
   "source": [
    "import random"
   ]
  },
  {
   "cell_type": "code",
   "execution_count": 7,
   "metadata": {
    "collapsed": false
   },
   "outputs": [],
   "source": [
    "def render_graph_and_save_screenshot(graph,BLOCK_HASH):\n",
    "    with open('20nov.json', 'w') as outfile:\n",
    "        json.dump(graph, outfile)\n",
    "    browser = webdriver.Chrome()\n",
    "    browser.implicitly_wait(1)\n",
    "    browser.get('about:blank')\n",
    "    browser.maximize_window()\n",
    "    sleep(1)\n",
    "    browser.save_screenshot('blank.png')\n",
    "    browser.set_window_position(0, 0)\n",
    "    browser.set_window_size(1000, 1000)\n",
    "    browser.get('http://localhost:8002/code/20nov.html')\n",
    "    sleep(80)\n",
    "    browser.save_screenshot(BLOCK_HASH+'-'+str(random.random())+'.png')\n",
    "    browser.quit()"
   ]
  },
  {
   "cell_type": "code",
   "execution_count": 8,
   "metadata": {
    "collapsed": true
   },
   "outputs": [],
   "source": [
    "def create_graph(block_info_json):\n",
    "    nodes_input = []\n",
    "    nodes_transaction = []\n",
    "    nodes_output = []\n",
    "    links = []\n",
    "    for transaction in block_info_json['tx']:\n",
    "        nodes_transaction.append(transaction['hash'])\n",
    "        for input in transaction['inputs']:\n",
    "            if 'prev_out' in input:\n",
    "                prev_out = input['prev_out']\n",
    "                if 'addr' in prev_out:\n",
    "                    address = prev_out['addr']\n",
    "                    \n",
    "                    if address not in remap_outputs_dict:#totally new input\n",
    "                        address += '-' + str(random.random())\n",
    "                        nodes_input.append(address)  \n",
    "                        links.append({\n",
    "                            'source':address,\n",
    "                            'target':transaction['hash'],\n",
    "                            'value':1\n",
    "                        })\n",
    "                    elif address in remap_outputs_dict:\n",
    "                        new_address = remap_outputs_dict[address]\n",
    "                        del remap_outputs_dict[address]\n",
    "#                         nodes_input.append(new_address)  \n",
    "                        links.append({\n",
    "                            'source':new_address,\n",
    "                            'target':transaction['hash'],\n",
    "                            'value':1\n",
    "                        })\n",
    "                    \n",
    "        for output in transaction['out']:\n",
    "            if 'addr' in output:\n",
    "                address_out = output['addr']\n",
    "                address_out_unique = address_out + '-' + str(random.random())\n",
    "                remap_outputs_dict[address_out] = address_out_unique\n",
    "                nodes_output.append(address_out_unique)  \n",
    "                links.append({\n",
    "                    'source':transaction['hash'],\n",
    "                    'target':address_out_unique,\n",
    "                    'value':1\n",
    "                })\n",
    "\n",
    "                    \n",
    "                    \n",
    "                \n",
    "    nodes_json = [{'id':a,'group':1} for a in nodes_input] + \\\n",
    "        [{'id':a,'group':2} for a in nodes_transaction] + \\\n",
    "        [{'id':a,'group':3} for a in nodes_output]\n",
    "    links_json = links\n",
    "    output = {\n",
    "        'nodes':nodes_json,\n",
    "        'links':links\n",
    "    }\n",
    "    \n",
    "    return output"
   ]
  },
  {
   "cell_type": "code",
   "execution_count": 9,
   "metadata": {
    "collapsed": false
   },
   "outputs": [
    {
     "ename": "KeyboardInterrupt",
     "evalue": "",
     "output_type": "error",
     "traceback": [
      "\u001b[0;31m---------------------------------------------------------------------------\u001b[0m",
      "\u001b[0;31mKeyboardInterrupt\u001b[0m                         Traceback (most recent call last)",
      "\u001b[0;32m<ipython-input-9-a5e34fc8b460>\u001b[0m in \u001b[0;36m<module>\u001b[0;34m()\u001b[0m\n\u001b[1;32m      5\u001b[0m     \u001b[0moutput\u001b[0m \u001b[0;34m=\u001b[0m \u001b[0mcreate_graph\u001b[0m\u001b[0;34m(\u001b[0m\u001b[0mblock_info_json\u001b[0m\u001b[0;34m)\u001b[0m\u001b[0;34m\u001b[0m\u001b[0m\n\u001b[1;32m      6\u001b[0m \u001b[0;31m#     if(a>=10):\u001b[0m\u001b[0;34m\u001b[0m\u001b[0;34m\u001b[0m\u001b[0m\n\u001b[0;32m----> 7\u001b[0;31m     \u001b[0mrender_graph_and_save_screenshot\u001b[0m\u001b[0;34m(\u001b[0m\u001b[0moutput\u001b[0m\u001b[0;34m,\u001b[0m\u001b[0mBLOCK_HASH\u001b[0m\u001b[0;34m)\u001b[0m\u001b[0;34m\u001b[0m\u001b[0m\n\u001b[0m\u001b[1;32m      8\u001b[0m     \u001b[0mBLOCK_HASH\u001b[0m \u001b[0;34m=\u001b[0m \u001b[0mblock_info_json\u001b[0m\u001b[0;34m[\u001b[0m\u001b[0;34m'prev_block'\u001b[0m\u001b[0;34m]\u001b[0m\u001b[0;34m\u001b[0m\u001b[0m\n",
      "\u001b[0;32m<ipython-input-7-c61d4f6f5bb6>\u001b[0m in \u001b[0;36mrender_graph_and_save_screenshot\u001b[0;34m(graph, BLOCK_HASH)\u001b[0m\n\u001b[1;32m      6\u001b[0m     \u001b[0mbrowser\u001b[0m\u001b[0;34m.\u001b[0m\u001b[0mget\u001b[0m\u001b[0;34m(\u001b[0m\u001b[0;34m'about:blank'\u001b[0m\u001b[0;34m)\u001b[0m\u001b[0;34m\u001b[0m\u001b[0m\n\u001b[1;32m      7\u001b[0m     \u001b[0mbrowser\u001b[0m\u001b[0;34m.\u001b[0m\u001b[0mmaximize_window\u001b[0m\u001b[0;34m(\u001b[0m\u001b[0;34m)\u001b[0m\u001b[0;34m\u001b[0m\u001b[0m\n\u001b[0;32m----> 8\u001b[0;31m     \u001b[0msleep\u001b[0m\u001b[0;34m(\u001b[0m\u001b[0;36m1\u001b[0m\u001b[0;34m)\u001b[0m\u001b[0;34m\u001b[0m\u001b[0m\n\u001b[0m\u001b[1;32m      9\u001b[0m     \u001b[0mbrowser\u001b[0m\u001b[0;34m.\u001b[0m\u001b[0msave_screenshot\u001b[0m\u001b[0;34m(\u001b[0m\u001b[0;34m'blank.png'\u001b[0m\u001b[0;34m)\u001b[0m\u001b[0;34m\u001b[0m\u001b[0m\n\u001b[1;32m     10\u001b[0m     \u001b[0mbrowser\u001b[0m\u001b[0;34m.\u001b[0m\u001b[0mset_window_position\u001b[0m\u001b[0;34m(\u001b[0m\u001b[0;36m0\u001b[0m\u001b[0;34m,\u001b[0m \u001b[0;36m0\u001b[0m\u001b[0;34m)\u001b[0m\u001b[0;34m\u001b[0m\u001b[0m\n",
      "\u001b[0;31mKeyboardInterrupt\u001b[0m: "
     ]
    }
   ],
   "source": [
    "BLOCK_HASH = BLOCKS_INIT\n",
    "for a in range(0,100):\n",
    "    remap_outputs_dict = {}\n",
    "    block_info_json = find_block_info(BLOCK_HASH)\n",
    "    output = create_graph(block_info_json)\n",
    "#     if(a>=10):\n",
    "    render_graph_and_save_screenshot(output,BLOCK_HASH)\n",
    "    BLOCK_HASH = block_info_json['prev_block']\n"
   ]
  },
  {
   "cell_type": "code",
   "execution_count": null,
   "metadata": {
    "collapsed": true
   },
   "outputs": [],
   "source": []
  }
 ],
 "metadata": {
  "kernelspec": {
   "display_name": "Python [py35]",
   "language": "python",
   "name": "Python [py35]"
  },
  "language_info": {
   "codemirror_mode": {
    "name": "ipython",
    "version": 3
   },
   "file_extension": ".py",
   "mimetype": "text/x-python",
   "name": "python",
   "nbconvert_exporter": "python",
   "pygments_lexer": "ipython3",
   "version": "3.6.0"
  }
 },
 "nbformat": 4,
 "nbformat_minor": 2
}
