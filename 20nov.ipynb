{
 "cells": [
  {
   "cell_type": "code",
   "execution_count": 67,
   "metadata": {
    "collapsed": true
   },
   "outputs": [],
   "source": [
    "BLOCK_ID = 364618 #Parasitic Attack\n",
    "BLOCK_HASH = '000000000000000000345e1eace92469a7de99658ffc1433e7022766e5abf8bf'"
   ]
  },
  {
   "cell_type": "code",
   "execution_count": 69,
   "metadata": {
    "collapsed": false
   },
   "outputs": [],
   "source": [
    "import urllib.request\n",
    "block_info = urllib.request.urlopen(\"https://blockchain.info/rawblock/\" + BLOCK_HASH)"
   ]
  },
  {
   "cell_type": "markdown",
   "metadata": {},
   "source": [
    "https://blockchain.info/rawblock/00000000000000000a529be68d2cfb3eb80cfd91ce75c4e0aacd388fbe2aa883"
   ]
  },
  {
   "cell_type": "code",
   "execution_count": null,
   "metadata": {
    "collapsed": true
   },
   "outputs": [],
   "source": [
    "import json\n",
    "block_info_json = json.load(block_info)\n",
    "#block_info_json"
   ]
  },
  {
   "cell_type": "code",
   "execution_count": null,
   "metadata": {
    "collapsed": false
   },
   "outputs": [],
   "source": [
    "len(block_info_json['tx'])"
   ]
  },
  {
   "cell_type": "code",
   "execution_count": null,
   "metadata": {
    "collapsed": false
   },
   "outputs": [],
   "source": [
    "nodes_input = []\n",
    "nodes_transaction = []\n",
    "nodes_output = []\n",
    "links = []\n",
    "for transaction in block_info_json['tx']:\n",
    "    nodes_transaction.append(transaction['hash'])\n",
    "    for input in transaction['inputs']:\n",
    "        if 'prev_out' in input:\n",
    "            prev_out = input['prev_out']\n",
    "            if 'addr' in prev_out:\n",
    "                address = prev_out['addr']\n",
    "                if address not in nodes_input:\n",
    "                    nodes_input.append(address)\n",
    "                links.append({\n",
    "                    'source':address,\n",
    "                    'target':transaction['hash'],\n",
    "                    'value':1\n",
    "                })\n",
    "                \n",
    "    for output in transaction['out']:\n",
    "        if 'addr' in output:\n",
    "            address_out = output['addr']\n",
    "            if address_out not in nodes_output and address_out not in nodes_input:\n",
    "                nodes_output.append(address_out)  \n",
    "            links.append({\n",
    "                'source':transaction['hash'],\n",
    "                'target':address_out,\n",
    "                'value':1\n",
    "            })\n",
    "#                     else:\n",
    "#                         print('NO ADDRESS IN ADRESS OUT')\n",
    "#                         print(output)\n",
    "#             else:\n",
    "#                 print('ERROR, NO ADDRESS IN PREV OUT')\n",
    "#         else:\n",
    "#             print('NO PREV_OUT')"
   ]
  },
  {
   "cell_type": "code",
   "execution_count": 56,
   "metadata": {
    "collapsed": false
   },
   "outputs": [
    {
     "name": "stdout",
     "output_type": "stream",
     "text": [
      "10056\n",
      "10053\n"
     ]
    }
   ],
   "source": [
    "print(len(nodes))\n",
    "print(len(links))"
   ]
  },
  {
   "cell_type": "code",
   "execution_count": 57,
   "metadata": {
    "collapsed": false
   },
   "outputs": [],
   "source": [
    "nodes_json = [{'id':a,'group':1} for a in nodes_input] + \\\n",
    "    [{'id':a,'group':2} for a in nodes_transaction] + \\\n",
    "    [{'id':a,'group':3} for a in nodes_output]\n",
    "links_json = links\n",
    "output = {\n",
    "    'nodes':nodes_json,\n",
    "    'links':links\n",
    "}\n",
    "\n",
    "import json\n",
    "with open('20nov.json', 'w') as outfile:\n",
    "    json.dump(output, outfile)"
   ]
  },
  {
   "cell_type": "code",
   "execution_count": 66,
   "metadata": {
    "collapsed": false
   },
   "outputs": [
    {
     "ename": "KeyboardInterrupt",
     "evalue": "",
     "output_type": "error",
     "traceback": [
      "\u001b[0;31m---------------------------------------------------------------------------\u001b[0m",
      "\u001b[0;31mKeyboardInterrupt\u001b[0m                         Traceback (most recent call last)",
      "\u001b[0;32m<ipython-input-66-cef28382fbee>\u001b[0m in \u001b[0;36m<module>\u001b[0;34m()\u001b[0m\n\u001b[1;32m     12\u001b[0m \u001b[0mbrowser\u001b[0m\u001b[0;34m.\u001b[0m\u001b[0mset_window_size\u001b[0m\u001b[0;34m(\u001b[0m\u001b[0;36m1000\u001b[0m\u001b[0;34m,\u001b[0m \u001b[0;36m1000\u001b[0m\u001b[0;34m)\u001b[0m\u001b[0;34m\u001b[0m\u001b[0m\n\u001b[1;32m     13\u001b[0m \u001b[0mbrowser\u001b[0m\u001b[0;34m.\u001b[0m\u001b[0mget\u001b[0m\u001b[0;34m(\u001b[0m\u001b[0;34m'http://localhost:8002/code/20nov.html'\u001b[0m\u001b[0;34m)\u001b[0m\u001b[0;34m\u001b[0m\u001b[0m\n\u001b[0;32m---> 14\u001b[0;31m \u001b[0msleep\u001b[0m\u001b[0;34m(\u001b[0m\u001b[0;36m80\u001b[0m\u001b[0;34m)\u001b[0m\u001b[0;34m\u001b[0m\u001b[0m\n\u001b[0m\u001b[1;32m     15\u001b[0m \u001b[0mbrowser\u001b[0m\u001b[0;34m.\u001b[0m\u001b[0msave_screenshot\u001b[0m\u001b[0;34m(\u001b[0m\u001b[0;34m'screenie.png'\u001b[0m\u001b[0;34m)\u001b[0m\u001b[0;34m\u001b[0m\u001b[0m\n\u001b[1;32m     16\u001b[0m \u001b[0mbrowser\u001b[0m\u001b[0;34m.\u001b[0m\u001b[0mquit\u001b[0m\u001b[0;34m(\u001b[0m\u001b[0;34m)\u001b[0m\u001b[0;34m\u001b[0m\u001b[0m\n",
      "\u001b[0;31mKeyboardInterrupt\u001b[0m: "
     ]
    }
   ],
   "source": [
    "from selenium import webdriver\n",
    "from time import sleep\n",
    "\n",
    "\n",
    "browser = webdriver.Chrome()\n",
    "browser.implicitly_wait(1)\n",
    "browser.get('about:blank')\n",
    "browser.maximize_window()\n",
    "sleep(1)\n",
    "browser.save_screenshot('blank.png')\n",
    "browser.set_window_position(0, 0)\n",
    "browser.set_window_size(1000, 1000)\n",
    "browser.get('http://localhost:8002/code/20nov.html')\n",
    "sleep(80)\n",
    "browser.save_screenshot('screenie.png')\n",
    "browser.quit()"
   ]
  },
  {
   "cell_type": "code",
   "execution_count": null,
   "metadata": {
    "collapsed": true
   },
   "outputs": [],
   "source": []
  },
  {
   "cell_type": "code",
   "execution_count": null,
   "metadata": {
    "collapsed": true
   },
   "outputs": [],
   "source": []
  }
 ],
 "metadata": {
  "kernelspec": {
   "display_name": "Python [py35]",
   "language": "python",
   "name": "Python [py35]"
  },
  "language_info": {
   "codemirror_mode": {
    "name": "ipython",
    "version": 3
   },
   "file_extension": ".py",
   "mimetype": "text/x-python",
   "name": "python",
   "nbconvert_exporter": "python",
   "pygments_lexer": "ipython3",
   "version": "3.6.0"
  }
 },
 "nbformat": 4,
 "nbformat_minor": 2
}
